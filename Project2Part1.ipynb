{
 "cells": [
  {
   "cell_type": "code",
   "execution_count": 27,
   "metadata": {},
   "outputs": [],
   "source": [
    "import numpy as np\n",
    "import pandas as pd\n",
    "import tensorflow as tf\n",
    "from tensorflow.keras.models import Sequential\n",
    "from tensorflow.keras.layers import Dense\n",
    "from tensorflow.keras.activations import linear, relu, sigmoid\n",
    "from sklearn.model_selection import train_test_split\n",
    "from sklearn.metrics import accuracy_score, precision_score, recall_score, f1_score\n",
    "from utils import *\n",
    "import matplotlib.pyplot as plt\n"
   ]
  },
  {
   "cell_type": "code",
   "execution_count": 28,
   "metadata": {},
   "outputs": [],
   "source": [
    "# load dataset\n",
    "# shoppingData = load_data(\"shopping.csv\")\n",
    "\n",
    "shoppingData = pd.read_csv(\"shopping.csv\")"
   ]
  },
  {
   "cell_type": "markdown",
   "metadata": {},
   "source": [
    "Transform shopping data"
   ]
  },
  {
   "cell_type": "code",
   "execution_count": 29,
   "metadata": {},
   "outputs": [
    {
     "name": "stdout",
     "output_type": "stream",
     "text": [
      "   Administrative  Administrative_Duration  Informational  \\\n",
      "0               3               142.500000              0   \n",
      "1               6               437.391304              2   \n",
      "2               1                41.125000              0   \n",
      "3               2               141.000000              0   \n",
      "4              18               608.140000              6   \n",
      "\n",
      "   Informational_Duration  ProductRelated  ProductRelated_Duration  \\\n",
      "0                    0.00              48              1052.255952   \n",
      "1                  235.55              83              2503.881781   \n",
      "2                    0.00             126              4310.004668   \n",
      "3                    0.00              10               606.666667   \n",
      "4                  733.80             168              4948.398759   \n",
      "\n",
      "   BounceRates  ExitRates  PageValues  SpecialDay  Month  OperatingSystems  \\\n",
      "0     0.004348   0.013043    0.000000         0.0     11                 1   \n",
      "1     0.002198   0.004916    2.086218         0.0      3                 2   \n",
      "2     0.000688   0.012823    3.451072         0.0     11                 2   \n",
      "3     0.008333   0.026389   36.672294         0.0      8                 2   \n",
      "4     0.006632   0.013528   10.150644         0.0      8                 2   \n",
      "\n",
      "   Browser  Region  TrafficType  VisitorType  Weekend  \n",
      "0        8       6           11            1        0  \n",
      "1        2       3            2            1        0  \n",
      "2        2       2            2            1        0  \n",
      "3        5       7            4            1        0  \n",
      "4        2       3            1            1        1  \n"
     ]
    }
   ],
   "source": [
    "\n",
    "transformMonth = {'Jan': 1, 'Feb': 2, 'Mar': 3, 'Apr': 4, 'May': 5, 'June': 6, 'Jul': 7, 'Aug': 8, 'Sep': 9, 'Oct': 10, 'Nov': 11, 'Dec': 12}\n",
    "transformVisitorType = {'Returning_Visitor': 1, 'New_Visitor': 2, 'Other': 3}\n",
    "transformTrueFalse = {'True': 1, 'False': 0}\n",
    "\n",
    "\n",
    "shoppingData[\"Month\"] = shoppingData[\"Month\"].map(transformMonth)\n",
    "shoppingData[\"VisitorType\"] = shoppingData[\"VisitorType\"].map(transformVisitorType)\n",
    "#shoppingData[\"Weekend\"] = shoppingData[\"Weekend\"].map(transformTrueFalse)\n",
    "#shoppingData[\"Revenue\"] = shoppingData[\"Revenue\"].map(transformTrueFalse)\n",
    "\n",
    "shoppingData['Weekend'] = shoppingData['Weekend'].astype(int)\n",
    "shoppingData['Revenue'] = shoppingData['Revenue'].astype(int)\n",
    "\n",
    "\n",
    "\n",
    "X = shoppingData.drop('Revenue', axis=1)\n",
    "y = shoppingData['Revenue']\n",
    "\n",
    "print(X.head())\n",
    "#print(y.head())"
   ]
  },
  {
   "cell_type": "markdown",
   "metadata": {},
   "source": [
    "Normalization functions and minmax scaling"
   ]
  },
  {
   "cell_type": "code",
   "execution_count": 30,
   "metadata": {},
   "outputs": [],
   "source": [
    "def meanNormalization(X):\n",
    "    return (X-X.mean()) / (X.max()-X.min())\n",
    "\n",
    "def zNormalization(X):\n",
    "    return (X-X.mean()) / X.std()\n",
    "\n",
    "def scaleMinMax(X):\n",
    "    return (X-X.min()) / (X.max()-X.min())\n",
    "\n",
    "XMean = meanNormalization(X)\n",
    "XZNorm = zNormalization(X)\n",
    "XMinMax = scaleMinMax(X)"
   ]
  },
  {
   "cell_type": "code",
   "execution_count": 31,
   "metadata": {},
   "outputs": [
    {
     "name": "stdout",
     "output_type": "stream",
     "text": [
      "Iterations: 0 | Cost: 0.6931471803599453\n"
     ]
    },
    {
     "name": "stdout",
     "output_type": "stream",
     "text": [
      "Iterations: 0 | Cost: 0.6931471803599453\n",
      "Iterations: 0 | Cost: 0.6931471803599453\n",
      "Iterations: 0 | Cost: 0.6931471803599453\n"
     ]
    }
   ],
   "source": [
    "def trainDeez(X_train, y_train, alpha, num_iters):\n",
    "    m, n = X_train.shape\n",
    "    w = np.zeros(n)\n",
    "    b = 0\n",
    "\n",
    "    for i in range(num_iters):\n",
    "        costVal = compute_cost(X_train, y_train, w, b)\n",
    "        dj_db, dj_dw = compute_gradient(X_train, y_train, w, b)\n",
    "\n",
    "        w -= alpha * dj_dw\n",
    "        b -= alpha * dj_db\n",
    "\n",
    "        if(i % 100 == 0):\n",
    "            print(f\"Iterations: {i} | Cost: {costVal}\")\n",
    "            \n",
    "    return w, b\n",
    "\n",
    "alphaRate = 0.05\n",
    "iterations = 100\n",
    "\n",
    "wNone, bNone = trainDeez(X, y, alphaRate, iterations)\n",
    "wMinMax, bMinMax = trainDeez(XMinMax, y, alphaRate, iterations)\n",
    "wMean, bMean = trainDeez(XMean, y, alphaRate, iterations)\n",
    "wZNorm, bZNorm = trainDeez(XZNorm, y, alphaRate, iterations)"
   ]
  },
  {
   "cell_type": "code",
   "execution_count": 32,
   "metadata": {},
   "outputs": [],
   "source": [
    "X_train, X_temp, y_train, y_temp = train_test_split(X, y, test_size=0.4, random_state=445)\n",
    "X_cv, X_test, y_cv, y_test = train_test_split(X_temp, y_temp, test_size=0.5, random_state=445)\n",
    "\n",
    "tf.random.set_seed(1234)\n",
    "model = Sequential(\n",
    "    [\n",
    "        #tf.keras.Input(X.shape[1]),\n",
    "\n",
    "        Dense(128, activation=\"relu\", input_dim=X_train.shape[1], name=\"l1\"),\n",
    "        Dense(64, activation=\"relu\", name=\"l2\"),\n",
    "        Dense(32, activation=\"relu\", name=\"l3\"),\n",
    "        Dense(1, activation=\"sigmoid\", name=\"l4\")\n",
    "\n",
    "    ], name=\"myModel\"\n",
    ")\n",
    "\n"
   ]
  },
  {
   "cell_type": "code",
   "execution_count": 33,
   "metadata": {},
   "outputs": [
    {
     "name": "stdout",
     "output_type": "stream",
     "text": [
      "Model: \"myModel\"\n",
      "_________________________________________________________________\n",
      " Layer (type)                Output Shape              Param #   \n",
      "=================================================================\n",
      " l1 (Dense)                  (None, 128)               2304      \n",
      "                                                                 \n",
      " l2 (Dense)                  (None, 64)                8256      \n",
      "                                                                 \n",
      " l3 (Dense)                  (None, 32)                2080      \n",
      "                                                                 \n",
      " l4 (Dense)                  (None, 1)                 33        \n",
      "                                                                 \n",
      "=================================================================\n",
      "Total params: 12673 (49.50 KB)\n",
      "Trainable params: 12673 (49.50 KB)\n",
      "Non-trainable params: 0 (0.00 Byte)\n",
      "_________________________________________________________________\n"
     ]
    }
   ],
   "source": [
    "model.summary()"
   ]
  },
  {
   "cell_type": "code",
   "execution_count": 34,
   "metadata": {},
   "outputs": [
    {
     "name": "stdout",
     "output_type": "stream",
     "text": [
      "Epoch 1/70\n",
      "47/47 [==============================] - 2s 14ms/step - loss: 6.7434 - accuracy: 0.7483 - val_loss: 0.8901 - val_accuracy: 0.8692\n",
      "Epoch 2/70\n",
      "47/47 [==============================] - 0s 6ms/step - loss: 0.7892 - accuracy: 0.8350 - val_loss: 0.3596 - val_accuracy: 0.8675\n",
      "Epoch 3/70\n",
      "47/47 [==============================] - 0s 7ms/step - loss: 0.4331 - accuracy: 0.8693 - val_loss: 0.3528 - val_accuracy: 0.8750\n",
      "Epoch 4/70\n",
      "47/47 [==============================] - 0s 5ms/step - loss: 0.3519 - accuracy: 0.8770 - val_loss: 0.7596 - val_accuracy: 0.8517\n",
      "Epoch 5/70\n",
      "47/47 [==============================] - 0s 5ms/step - loss: 0.5464 - accuracy: 0.8660 - val_loss: 0.4286 - val_accuracy: 0.8708\n",
      "Epoch 6/70\n",
      "47/47 [==============================] - 0s 6ms/step - loss: 0.3735 - accuracy: 0.8773 - val_loss: 0.3398 - val_accuracy: 0.8800\n",
      "Epoch 7/70\n",
      "47/47 [==============================] - 0s 5ms/step - loss: 0.3104 - accuracy: 0.8870 - val_loss: 0.3274 - val_accuracy: 0.8642\n",
      "Epoch 8/70\n",
      "47/47 [==============================] - 0s 6ms/step - loss: 0.3173 - accuracy: 0.8787 - val_loss: 0.3448 - val_accuracy: 0.8708\n",
      "Epoch 9/70\n",
      "47/47 [==============================] - 0s 8ms/step - loss: 0.3152 - accuracy: 0.8800 - val_loss: 0.3699 - val_accuracy: 0.8583\n",
      "Epoch 10/70\n",
      "47/47 [==============================] - 1s 12ms/step - loss: 0.3117 - accuracy: 0.8840 - val_loss: 0.3641 - val_accuracy: 0.8767\n",
      "Epoch 11/70\n",
      "47/47 [==============================] - 0s 9ms/step - loss: 0.3590 - accuracy: 0.8793 - val_loss: 0.3766 - val_accuracy: 0.8683\n",
      "Epoch 12/70\n",
      "47/47 [==============================] - 0s 5ms/step - loss: 0.3260 - accuracy: 0.8850 - val_loss: 0.3624 - val_accuracy: 0.8567\n",
      "Epoch 13/70\n",
      "47/47 [==============================] - 0s 7ms/step - loss: 0.3155 - accuracy: 0.8807 - val_loss: 0.3176 - val_accuracy: 0.8808\n",
      "Epoch 14/70\n",
      "47/47 [==============================] - 0s 7ms/step - loss: 0.2961 - accuracy: 0.8850 - val_loss: 0.3219 - val_accuracy: 0.8742\n",
      "Epoch 15/70\n",
      "47/47 [==============================] - 0s 10ms/step - loss: 0.2904 - accuracy: 0.8860 - val_loss: 0.3216 - val_accuracy: 0.8683\n",
      "Epoch 16/70\n",
      "47/47 [==============================] - 1s 12ms/step - loss: 0.2972 - accuracy: 0.8840 - val_loss: 0.3191 - val_accuracy: 0.8683\n",
      "Epoch 17/70\n",
      "47/47 [==============================] - 0s 7ms/step - loss: 0.2935 - accuracy: 0.8863 - val_loss: 0.3136 - val_accuracy: 0.8650\n",
      "Epoch 18/70\n",
      "47/47 [==============================] - 0s 10ms/step - loss: 0.3317 - accuracy: 0.8803 - val_loss: 0.3479 - val_accuracy: 0.8692\n",
      "Epoch 19/70\n",
      "47/47 [==============================] - 0s 7ms/step - loss: 0.3021 - accuracy: 0.8820 - val_loss: 0.3128 - val_accuracy: 0.8792\n",
      "Epoch 20/70\n",
      "47/47 [==============================] - 0s 6ms/step - loss: 0.2966 - accuracy: 0.8857 - val_loss: 0.3298 - val_accuracy: 0.8700\n",
      "Epoch 21/70\n",
      "47/47 [==============================] - 0s 8ms/step - loss: 0.3034 - accuracy: 0.8870 - val_loss: 0.3274 - val_accuracy: 0.8708\n",
      "Epoch 22/70\n",
      "47/47 [==============================] - 0s 5ms/step - loss: 0.2848 - accuracy: 0.8883 - val_loss: 0.2929 - val_accuracy: 0.8733\n",
      "Epoch 23/70\n",
      "47/47 [==============================] - 0s 7ms/step - loss: 0.2949 - accuracy: 0.8860 - val_loss: 0.3043 - val_accuracy: 0.8725\n",
      "Epoch 24/70\n",
      "47/47 [==============================] - 0s 7ms/step - loss: 0.2964 - accuracy: 0.8833 - val_loss: 0.2976 - val_accuracy: 0.8742\n",
      "Epoch 25/70\n",
      "47/47 [==============================] - 0s 7ms/step - loss: 0.2850 - accuracy: 0.8860 - val_loss: 0.3112 - val_accuracy: 0.8700\n",
      "Epoch 26/70\n",
      "47/47 [==============================] - 0s 8ms/step - loss: 0.2987 - accuracy: 0.8850 - val_loss: 0.3395 - val_accuracy: 0.8725\n",
      "Epoch 27/70\n",
      "47/47 [==============================] - 0s 5ms/step - loss: 0.3272 - accuracy: 0.8843 - val_loss: 0.3853 - val_accuracy: 0.8683\n",
      "Epoch 28/70\n",
      "47/47 [==============================] - 0s 5ms/step - loss: 0.3203 - accuracy: 0.8827 - val_loss: 0.3306 - val_accuracy: 0.8767\n",
      "Epoch 29/70\n",
      "47/47 [==============================] - 0s 5ms/step - loss: 0.3118 - accuracy: 0.8860 - val_loss: 0.3211 - val_accuracy: 0.8658\n",
      "Epoch 30/70\n",
      "47/47 [==============================] - 0s 5ms/step - loss: 0.3083 - accuracy: 0.8850 - val_loss: 0.2997 - val_accuracy: 0.8792\n",
      "Epoch 31/70\n",
      "47/47 [==============================] - 0s 5ms/step - loss: 0.2915 - accuracy: 0.8843 - val_loss: 0.2872 - val_accuracy: 0.8725\n",
      "Epoch 32/70\n",
      "47/47 [==============================] - 0s 5ms/step - loss: 0.2843 - accuracy: 0.8847 - val_loss: 0.3145 - val_accuracy: 0.8833\n",
      "Epoch 33/70\n",
      "47/47 [==============================] - 0s 6ms/step - loss: 0.2830 - accuracy: 0.8863 - val_loss: 0.3088 - val_accuracy: 0.8833\n",
      "Epoch 34/70\n",
      "47/47 [==============================] - 0s 4ms/step - loss: 0.3484 - accuracy: 0.8807 - val_loss: 0.3172 - val_accuracy: 0.8783\n",
      "Epoch 35/70\n",
      "47/47 [==============================] - 0s 6ms/step - loss: 0.2868 - accuracy: 0.8873 - val_loss: 0.3358 - val_accuracy: 0.8742\n",
      "Epoch 36/70\n",
      "47/47 [==============================] - 0s 6ms/step - loss: 0.2775 - accuracy: 0.8930 - val_loss: 0.2815 - val_accuracy: 0.8767\n",
      "Epoch 37/70\n",
      "47/47 [==============================] - 0s 9ms/step - loss: 0.2854 - accuracy: 0.8900 - val_loss: 0.3272 - val_accuracy: 0.8667\n",
      "Epoch 38/70\n",
      "47/47 [==============================] - 0s 10ms/step - loss: 0.2876 - accuracy: 0.8877 - val_loss: 0.3005 - val_accuracy: 0.8617\n",
      "Epoch 39/70\n",
      "47/47 [==============================] - 0s 8ms/step - loss: 0.2767 - accuracy: 0.8887 - val_loss: 0.3411 - val_accuracy: 0.8633\n",
      "Epoch 40/70\n",
      "47/47 [==============================] - 1s 11ms/step - loss: 0.3334 - accuracy: 0.8853 - val_loss: 0.3019 - val_accuracy: 0.8717\n",
      "Epoch 41/70\n",
      "47/47 [==============================] - 1s 11ms/step - loss: 0.3040 - accuracy: 0.8820 - val_loss: 0.3158 - val_accuracy: 0.8675\n",
      "Epoch 42/70\n",
      "47/47 [==============================] - 1s 11ms/step - loss: 0.2860 - accuracy: 0.8870 - val_loss: 0.3166 - val_accuracy: 0.8742\n",
      "Epoch 43/70\n",
      "47/47 [==============================] - 1s 11ms/step - loss: 0.2842 - accuracy: 0.8913 - val_loss: 0.3171 - val_accuracy: 0.8742\n",
      "Epoch 44/70\n",
      "47/47 [==============================] - 0s 8ms/step - loss: 0.2864 - accuracy: 0.8813 - val_loss: 0.3287 - val_accuracy: 0.8733\n",
      "Epoch 45/70\n",
      "47/47 [==============================] - 0s 9ms/step - loss: 0.2928 - accuracy: 0.8843 - val_loss: 0.3302 - val_accuracy: 0.8800\n",
      "Epoch 46/70\n",
      "47/47 [==============================] - 0s 10ms/step - loss: 0.2808 - accuracy: 0.8893 - val_loss: 0.2980 - val_accuracy: 0.8775\n",
      "Epoch 47/70\n",
      "47/47 [==============================] - 0s 6ms/step - loss: 0.2921 - accuracy: 0.8870 - val_loss: 0.3079 - val_accuracy: 0.8725\n",
      "Epoch 48/70\n",
      "47/47 [==============================] - 1s 12ms/step - loss: 0.2769 - accuracy: 0.8897 - val_loss: 0.2956 - val_accuracy: 0.8850\n",
      "Epoch 49/70\n",
      "47/47 [==============================] - 1s 12ms/step - loss: 0.2814 - accuracy: 0.8883 - val_loss: 0.3037 - val_accuracy: 0.8850\n",
      "Epoch 50/70\n",
      "47/47 [==============================] - 0s 6ms/step - loss: 0.2827 - accuracy: 0.8910 - val_loss: 0.3149 - val_accuracy: 0.8850\n",
      "Epoch 51/70\n",
      "47/47 [==============================] - 0s 5ms/step - loss: 0.2640 - accuracy: 0.8890 - val_loss: 0.2761 - val_accuracy: 0.8925\n",
      "Epoch 52/70\n",
      "47/47 [==============================] - 0s 6ms/step - loss: 0.2697 - accuracy: 0.8930 - val_loss: 0.2903 - val_accuracy: 0.8708\n",
      "Epoch 53/70\n",
      "47/47 [==============================] - 1s 12ms/step - loss: 0.2665 - accuracy: 0.8890 - val_loss: 0.2887 - val_accuracy: 0.8825\n",
      "Epoch 54/70\n",
      "47/47 [==============================] - 1s 13ms/step - loss: 0.2779 - accuracy: 0.8903 - val_loss: 0.2912 - val_accuracy: 0.8933\n",
      "Epoch 55/70\n",
      "47/47 [==============================] - 0s 6ms/step - loss: 0.2794 - accuracy: 0.8903 - val_loss: 0.2811 - val_accuracy: 0.8900\n",
      "Epoch 56/70\n",
      "47/47 [==============================] - 1s 11ms/step - loss: 0.2637 - accuracy: 0.8937 - val_loss: 0.2969 - val_accuracy: 0.8733\n",
      "Epoch 57/70\n",
      "47/47 [==============================] - 1s 12ms/step - loss: 0.2690 - accuracy: 0.8877 - val_loss: 0.2974 - val_accuracy: 0.8858\n",
      "Epoch 58/70\n",
      "47/47 [==============================] - 0s 8ms/step - loss: 0.2698 - accuracy: 0.8943 - val_loss: 0.2953 - val_accuracy: 0.8850\n",
      "Epoch 59/70\n",
      "47/47 [==============================] - 0s 7ms/step - loss: 0.2573 - accuracy: 0.8913 - val_loss: 0.2845 - val_accuracy: 0.8800\n",
      "Epoch 60/70\n",
      "47/47 [==============================] - 0s 10ms/step - loss: 0.2643 - accuracy: 0.8940 - val_loss: 0.3216 - val_accuracy: 0.8967\n",
      "Epoch 61/70\n",
      "47/47 [==============================] - 1s 11ms/step - loss: 0.2591 - accuracy: 0.8920 - val_loss: 0.2730 - val_accuracy: 0.8825\n",
      "Epoch 62/70\n",
      "47/47 [==============================] - 1s 11ms/step - loss: 0.2714 - accuracy: 0.8920 - val_loss: 0.3060 - val_accuracy: 0.8825\n",
      "Epoch 63/70\n",
      "47/47 [==============================] - 1s 11ms/step - loss: 0.2738 - accuracy: 0.8910 - val_loss: 0.3183 - val_accuracy: 0.8850\n",
      "Epoch 64/70\n",
      "47/47 [==============================] - 0s 7ms/step - loss: 0.2659 - accuracy: 0.8930 - val_loss: 0.2929 - val_accuracy: 0.8883\n",
      "Epoch 65/70\n",
      "47/47 [==============================] - 0s 7ms/step - loss: 0.2702 - accuracy: 0.8973 - val_loss: 0.2780 - val_accuracy: 0.8917\n",
      "Epoch 66/70\n",
      "47/47 [==============================] - 1s 11ms/step - loss: 0.2697 - accuracy: 0.8907 - val_loss: 0.3072 - val_accuracy: 0.8800\n",
      "Epoch 67/70\n",
      "47/47 [==============================] - 1s 11ms/step - loss: 0.2766 - accuracy: 0.8937 - val_loss: 0.3100 - val_accuracy: 0.8692\n",
      "Epoch 68/70\n",
      "47/47 [==============================] - 0s 7ms/step - loss: 0.2759 - accuracy: 0.8900 - val_loss: 0.3162 - val_accuracy: 0.8792\n",
      "Epoch 69/70\n",
      "47/47 [==============================] - 0s 5ms/step - loss: 0.2745 - accuracy: 0.8953 - val_loss: 0.3026 - val_accuracy: 0.8817\n",
      "Epoch 70/70\n",
      "47/47 [==============================] - 0s 6ms/step - loss: 0.2800 - accuracy: 0.8923 - val_loss: 0.3257 - val_accuracy: 0.8783\n"
     ]
    }
   ],
   "source": [
    "#model.compile(optimizer='adam', loss='binary_crossentropy', metrics=['accuracy'])\n",
    "model.compile(\n",
    "    loss=tf.keras.losses.BinaryCrossentropy(from_logits=False),\n",
    "    optimizer=tf.keras.optimizers.Adam(learning_rate=0.01),\n",
    "    metrics=['accuracy']\n",
    ")\n",
    "\n",
    "\n",
    "history = model.fit(\n",
    "    X_train, y_train,\n",
    "    epochs=70, \n",
    "    batch_size=64, validation_data=(X_cv, y_cv)\n",
    ")"
   ]
  },
  {
   "cell_type": "markdown",
   "metadata": {},
   "source": [
    "Test to find accuracy"
   ]
  },
  {
   "cell_type": "code",
   "execution_count": 35,
   "metadata": {},
   "outputs": [
    {
     "data": {
      "image/png": "[encoded data removed]",
      "text/plain": [
       "<Figure size 640x480 with 1 Axes>"
      ]
     },
     "metadata": {},
     "output_type": "display_data"
    }
   ],
   "source": [
    "plt.plot(history.history['loss'], label='Train Loss')\n",
    "plt.plot(history.history['val_loss'], label='Validation Loss')\n",
    "plt.legend()\n",
    "plt.show()"
   ]
  },
  {
   "cell_type": "code",
   "execution_count": 36,
   "metadata": {},
   "outputs": [
    {
     "name": "stdout",
     "output_type": "stream",
     "text": [
      "25/25 [==============================] - 0s 2ms/step\n",
      "Test Accuracy: 0.86\n",
      "Precision: 0.77\n",
      "Recall: 0.29\n",
      "F1 Score: 0.42\n"
     ]
    }
   ],
   "source": [
    "y_pred_probs = model.predict(X_test)\n",
    "y_pred = (y_pred_probs > 0.55).astype(int)\n",
    "\n",
    "#y_pred = model.predict_classes(X_test)\n",
    "\n",
    "y_pred = y_pred.flatten()\n",
    "\n",
    "# Calculate evaluation metrics\n",
    "accuracy = np.mean(y_pred.flatten() == y_test)\n",
    "precision = np.sum((y_pred == 1) & (y_test == 1)) / np.sum(y_pred == 1)\n",
    "recall = np.sum((y_pred == 1) & (y_test == 1)) / np.sum(y_test == 1)\n",
    "f1 = 2 * (precision * recall) / (precision + recall)\n",
    "\n",
    "print(f'Test Accuracy: {accuracy:.2f}')\n",
    "print(f'Precision: {precision:.2f}')\n",
    "print(f'Recall: {recall:.2f}')\n",
    "print(f'F1 Score: {f1:.2f}')"
   ]
  },
  {
   "cell_type": "code",
   "execution_count": 37,
   "metadata": {},
   "outputs": [
    {
     "name": "stdout",
     "output_type": "stream",
     "text": [
      "No Scaling Accuracy = 0.848\n",
      "Min Max Scaling Accuracy = 0.848\n",
      "Mean Normalization = 0.848\n",
      "Z Score Normalization Accuracy = 0.848\n"
     ]
    }
   ],
   "source": [
    "def getAccuracy(X_train, y_train, w, b):\n",
    "    predictVal = predict(X_train, w, b)\n",
    "    #Debug print(predictVal)\n",
    "    predictValRounded = np.round(predictVal)\n",
    "    #Debug print(predictValRounded)\n",
    "    acc = np.mean(predictValRounded == y_train)\n",
    "\n",
    "    return acc\n",
    "\n",
    "\n",
    "#Load in and transform the data from the unseen csv file\n",
    "unseenData = pd.read_csv(\"unseen.csv\")\n",
    "\n",
    "unseenData[\"Month\"] = unseenData[\"Month\"].map(transformMonth)\n",
    "unseenData[\"VisitorType\"] = unseenData[\"VisitorType\"].map(transformVisitorType)\n",
    "\n",
    "unseenData['Weekend'] = unseenData['Weekend'].astype(int)\n",
    "unseenData['Revenue'] = unseenData['Revenue'].astype(int)\n",
    "\n",
    "\n",
    "\n",
    "unseenX = unseenData.drop('Revenue', axis=1)\n",
    "unseeny = unseenData['Revenue']\n",
    "\n",
    "\n",
    "unseenXMinMax = scaleMinMax(unseenX)\n",
    "unseenXMean = zNormalization(unseenX)\n",
    "unseenXZNorm = meanNormalization(unseenX)\n",
    "\n",
    "accNone = getAccuracy(unseenX, unseeny, wNone, bNone)\n",
    "\n",
    "accMinMax = getAccuracy(unseenXMinMax, unseeny, wMinMax, bMinMax)\n",
    "\n",
    "accMean = getAccuracy(unseenXMean, unseeny, wMean, bMean)\n",
    "\n",
    "accZNorm = getAccuracy(unseenXZNorm, unseeny, wZNorm, bZNorm)\n",
    "\n",
    "print(f'No Scaling Accuracy = {accNone}')\n",
    "print(f'Min Max Scaling Accuracy = {accMinMax}')\n",
    "print(f'Mean Normalization = {accMean}')\n",
    "print(f'Z Score Normalization Accuracy = {accZNorm}')\n",
    "\n"
   ]
  },
  {
   "cell_type": "markdown",
   "metadata": {},
   "source": [
    "Regularization\n",
    "\n",
    "Scaling choice: MinMax"
   ]
  },
  {
   "cell_type": "code",
   "execution_count": 38,
   "metadata": {},
   "outputs": [],
   "source": [
    "def trainDeezReg(X_train, y_train, alpha, num_iters, lambda_):\n",
    "    m, n = X_train.shape\n",
    "    w = np.zeros(n)\n",
    "    b = 0\n",
    "\n",
    "    for i in range(num_iters):\n",
    "        costVal = compute_cost_reg(X_train, y_train, w, b)\n",
    "        dj_db, dj_dw = compute_gradient_reg(X_train, y_train, w, b)\n",
    "\n",
    "        w -= alpha * dj_dw\n",
    "        b -= alpha * dj_db\n",
    "\n",
    "        if(i % 100 == 0):\n",
    "            print(f\"Iterations: {i} | Cost: {costVal}\")\n",
    "            \n",
    "    return w, b\n",
    "\n",
    "def compute_cost_reg(X, y, w, b, lambda_ = 1):\n",
    "    m, n = X.shape\n",
    "\n",
    "    cost_without_reg = compute_cost(X, y, w, b) \n",
    "\n",
    "    reg_cost = 0.\n",
    "\n",
    "    for i in range (n):\n",
    "        reg_cost += w[i] ** 2\n",
    "    reg_cost *= (lambda_/(2*m))\n",
    "\n",
    "    total_cost = cost_without_reg + reg_cost\n",
    "\n",
    "    return total_cost\n",
    "\n",
    "\n",
    "def compute_gradient_reg(X, y, w, b, lambda_ = 1): \n",
    "    m, n = X.shape\n",
    "    \n",
    "    dj_db, dj_dw = compute_gradient(X, y, w, b)\n",
    " \n",
    "    regularization = (lambda_/m) * w\n",
    "    \n",
    "    dj_dw += regularization\n",
    "\n",
    "    return dj_db, dj_dw"
   ]
  },
  {
   "cell_type": "code",
   "execution_count": 39,
   "metadata": {},
   "outputs": [
    {
     "name": "stdout",
     "output_type": "stream",
     "text": [
      "Iterations: 0 | Cost: 0.6931471803599453\n"
     ]
    },
    {
     "name": "stdout",
     "output_type": "stream",
     "text": [
      "Min Max Scaling Accuracy (Regularization) = 0.848\n"
     ]
    }
   ],
   "source": [
    "lambdaVal = 1\n",
    "\n",
    "wReg, bReg = trainDeezReg(XMinMax, y, alphaRate, iterations, lambdaVal)\n",
    "\n",
    "accReg = getAccuracy(unseenXMinMax, unseeny, wReg, bReg)\n",
    "\n",
    "print(f'Min Max Scaling Accuracy (Regularization) = {accReg}')"
   ]
  }
 ],
 "metadata": {
  "kernelspec": {
   "display_name": "Python 3",
   "language": "python",
   "name": "python3"
  },
  "language_info": {
   "codemirror_mode": {
    "name": "ipython",
    "version": 3
   },
   "file_extension": ".py",
   "mimetype": "text/x-python",
   "name": "python",
   "nbconvert_exporter": "python",
   "pygments_lexer": "ipython3",
   "version": "3.11.8"
  }
 },
 "nbformat": 4,
 "nbformat_minor": 2
}
